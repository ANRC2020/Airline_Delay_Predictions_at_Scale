{
 "cells": [
  {
   "cell_type": "markdown",
   "metadata": {
    "application/vnd.databricks.v1+cell": {
     "cellMetadata": {},
     "inputWidgets": {},
     "nuid": "3aa5db69-2e79-4bc1-b0be-b68708140283",
     "showTitle": false,
     "tableResultSettingsMap": {},
     "title": ""
    }
   },
   "source": [
    "1. Select relevant features\n",
    "2. Encode numerical + categorical\n",
    "3. Separate 2019 as test set + checkpoint\n",
    "4. Class imbalance - undersampling\n",
    "5. Scaling based on distributions (MinMax, Log, StandardScalar)\n",
    "6. Handling outliers\n",
    "7. Imputing nulls - mean/median\n",
    "8. Checkpoint baseline (MinMax scaling, drop nulls, keep outliers)"
   ]
  },
  {
   "cell_type": "markdown",
   "metadata": {
    "application/vnd.databricks.v1+cell": {
     "cellMetadata": {},
     "inputWidgets": {},
     "nuid": "b0e74091-f8e4-45f8-b3ba-7990c9c67807",
     "showTitle": false,
     "tableResultSettingsMap": {},
     "title": ""
    }
   },
   "source": [
    "## Setup"
   ]
  },
  {
   "cell_type": "code",
   "execution_count": 0,
   "metadata": {
    "application/vnd.databricks.v1+cell": {
     "cellMetadata": {
      "byteLimit": 2048000,
      "rowLimit": 10000
     },
     "inputWidgets": {},
     "nuid": "c1c81ac3-9df7-49ff-a00e-711f236662d2",
     "showTitle": false,
     "tableResultSettingsMap": {},
     "title": ""
    }
   },
   "outputs": [],
   "source": [
    "\n",
    "from pyspark.sql import SparkSession\n",
    "from pyspark.sql.functions import lit\n",
    "from pyspark.sql.functions import col, log1p, when\n",
    "\n",
    "# Spark SQL API\n",
    "from pyspark.sql import Window, DataFrame\n",
    "from pyspark.sql import functions as F\n",
    "from pyspark.sql.functions import lit, concat, col\n",
    "\n",
    "from pyspark.sql.types import StructType, StructField, StringType, IntegerType, FloatType, ArrayType\n",
    "from pyspark.ml.linalg import VectorUDT, SparseVector\n",
    "\n",
    "import os\n",
    "from functools import reduce\n",
    "import numpy as np\n"
   ]
  },
  {
   "cell_type": "code",
   "execution_count": 0,
   "metadata": {
    "application/vnd.databricks.v1+cell": {
     "cellMetadata": {
      "byteLimit": 2048000,
      "rowLimit": 10000
     },
     "inputWidgets": {},
     "nuid": "4f882160-ce31-4c71-99a4-37018e9f983e",
     "showTitle": false,
     "tableResultSettingsMap": {},
     "title": ""
    }
   },
   "outputs": [],
   "source": [
    "# Mount blob storage and grant team access\n",
    "blob_container  = \"261project\"       # The name of your container created in https://portal.azure.com\n",
    "storage_account = \"261teamderm\"  # The name of your Storage account created in https://portal.azure.com\n",
    "secret_scope = \"261teamderm\"           # The name of the scope created in your local computer using the Databricks CLI\n",
    "secret_key = \"261key\"             # The name of the secret key created in your local computer using the Databricks CLI\n",
    "team_blob_url = f\"wasbs://{blob_container}@{storage_account}.blob.core.windows.net\"  #points to the root of your team storage bucket\n",
    "mids261_mount_path      = \"/mnt/mids-w261\" # the 261 course blob storage is mounted here.\n",
    "# SAS Token: Grant the team limited access to Azure Storage resources\n",
    "spark.conf.set(\n",
    "  f\"fs.azure.sas.{blob_container}.{storage_account}.blob.core.windows.net\",\n",
    "  dbutils.secrets.get(scope = secret_scope, key = secret_key)\n",
    "  )"
   ]
  },
  {
   "cell_type": "code",
   "execution_count": 0,
   "metadata": {
    "application/vnd.databricks.v1+cell": {
     "cellMetadata": {
      "byteLimit": 2048000,
      "rowLimit": 10000
     },
     "inputWidgets": {},
     "nuid": "4e479c25-0cf8-4ec7-a845-35bd356d1ae5",
     "showTitle": false,
     "tableResultSettingsMap": {},
     "title": ""
    }
   },
   "outputs": [
    {
     "output_type": "execute_result",
     "data": {
      "text/html": [
       "\n",
       "            <div>\n",
       "                <p><b>SparkSession - hive</b></p>\n",
       "                \n",
       "        <div>\n",
       "            <p><b>SparkContext</b></p>\n",
       "\n",
       "            <p><a href=\"/?o=4248444930383559#setting/sparkui/1028-205316-may2wxvb/driver-398545675573381172\">Spark UI</a></p>\n",
       "\n",
       "            <dl>\n",
       "              <dt>Version</dt>\n",
       "                <dd><code>v3.5.2</code></dd>\n",
       "              <dt>Master</dt>\n",
       "                <dd><code>spark://10.139.64.46:7077</code></dd>\n",
       "              <dt>AppName</dt>\n",
       "                <dd><code>Databricks Shell</code></dd>\n",
       "            </dl>\n",
       "        </div>\n",
       "        \n",
       "            </div>\n",
       "        "
      ],
      "text/plain": [
       "<pyspark.sql.session.SparkSession at 0x7f9973b5e5d0>"
      ]
     },
     "execution_count": 3,
     "metadata": {},
     "output_type": "execute_result"
    }
   ],
   "source": [
    "# Spark Context\n",
    "sc = spark.sparkContext\n",
    "spark"
   ]
  },
  {
   "cell_type": "markdown",
   "metadata": {
    "application/vnd.databricks.v1+cell": {
     "cellMetadata": {},
     "inputWidgets": {},
     "nuid": "d1dcde93-0230-4179-beab-81f031da073e",
     "showTitle": false,
     "tableResultSettingsMap": {},
     "title": ""
    }
   },
   "source": [
    "# Load data"
   ]
  },
  {
   "cell_type": "code",
   "execution_count": 0,
   "metadata": {
    "application/vnd.databricks.v1+cell": {
     "cellMetadata": {
      "byteLimit": 2048000,
      "rowLimit": 10000
     },
     "inputWidgets": {},
     "nuid": "75183567-c5f4-4698-a06d-a7f6b2e1dae4",
     "showTitle": false,
     "tableResultSettingsMap": {},
     "title": ""
    }
   },
   "outputs": [
    {
     "output_type": "display_data",
     "data": {
      "text/plain": [
       "'wasbs://261project@261teamderm.blob.core.windows.net/data/'"
      ]
     },
     "metadata": {},
     "output_type": "display_data"
    }
   ],
   "source": [
    "display(f'{team_blob_url}/data/')"
   ]
  },
  {
   "cell_type": "code",
   "execution_count": 0,
   "metadata": {
    "application/vnd.databricks.v1+cell": {
     "cellMetadata": {
      "byteLimit": 2048000,
      "rowLimit": 10000
     },
     "inputWidgets": {},
     "nuid": "ff7c9877-a67c-4b73-84ae-6e7507db961c",
     "showTitle": false,
     "tableResultSettingsMap": {},
     "title": ""
    }
   },
   "outputs": [],
   "source": [
    "# Load data from parquet file\n",
    "folds_df = spark.read.parquet(f\"{team_blob_url}/data/5yr_folds.parquet\")\n",
    "# test_df = spark.read.parquet(f\"{team_blob_url}/data/5yr_test.parquet\")\n",
    "\n",
    "# Drop nulls\n",
    "folds_df = folds_df.filter(folds_df.DEP_DEL15.isNotNull())"
   ]
  },
  {
   "cell_type": "code",
   "execution_count": 0,
   "metadata": {
    "application/vnd.databricks.v1+cell": {
     "cellMetadata": {
      "byteLimit": 2048000,
      "rowLimit": 10000
     },
     "inputWidgets": {},
     "nuid": "3ba5380b-61b3-4c8e-b302-481e592aced4",
     "showTitle": false,
     "tableResultSettingsMap": {},
     "title": ""
    }
   },
   "outputs": [
    {
     "output_type": "display_data",
     "data": {
      "text/plain": [
       "'Pre-balanced:'"
      ]
     },
     "metadata": {},
     "output_type": "display_data"
    },
    {
     "output_type": "display_data",
     "data": {
      "text/plain": [
       "[Row(DEP_DEL15=0.0, count=20309828), Row(DEP_DEL15=1.0, count=4517628)]"
      ]
     },
     "metadata": {},
     "output_type": "display_data"
    },
    {
     "output_type": "display_data",
     "data": {
      "text/plain": [
       "'Post-balanced:'"
      ]
     },
     "metadata": {},
     "output_type": "display_data"
    },
    {
     "output_type": "display_data",
     "data": {
      "text/plain": [
       "[Row(DEP_DEL15=1.0, count=4517628), Row(DEP_DEL15=0.0, count=4519901)]"
      ]
     },
     "metadata": {},
     "output_type": "display_data"
    }
   ],
   "source": [
    "# Get class counts and dct to prepare for undersampling\n",
    "pre_balance_class_counts = folds_df.groupBy(\"DEP_DEL15\").count().collect()\n",
    "pre_balance_class_dct = {row[\"DEP_DEL15\"]: row[\"count\"] for row in pre_balance_class_counts}\n",
    "\n",
    "# Get df by class\n",
    "minority_class_df = folds_df.filter(col(\"DEP_DEL15\") == 1)  \n",
    "majority_class_df = folds_df.filter(col(\"DEP_DEL15\") == 0)\n",
    "\n",
    "# Get fraction\n",
    "fraction = pre_balance_class_dct[1] / pre_balance_class_dct[0]  # Fraction for sampling majority class\n",
    "undersampled_majority_df = majority_class_df.sample(withReplacement=False, fraction=fraction, seed=42)\n",
    "balanced_df = minority_class_df.union(undersampled_majority_df)\n",
    "\n",
    "# Get groupby to visualize update\n",
    "post_balance_class_counts = balanced_df.groupBy(\"DEP_DEL15\").count().collect()\n",
    "\n",
    "# Show results\n",
    "display('Pre-balanced:', pre_balance_class_counts)\n",
    "display('Post-balanced:', post_balance_class_counts)"
   ]
  },
  {
   "cell_type": "code",
   "execution_count": 0,
   "metadata": {
    "application/vnd.databricks.v1+cell": {
     "cellMetadata": {
      "byteLimit": 2048000,
      "rowLimit": 10000
     },
     "inputWidgets": {},
     "nuid": "557a0096-8dc4-4110-8305-ed628431d05c",
     "showTitle": false,
     "tableResultSettingsMap": {},
     "title": ""
    }
   },
   "outputs": [
    {
     "output_type": "display_data",
     "data": {
      "text/html": [
       "<style scoped>\n",
       "  .table-result-container {\n",
       "    max-height: 300px;\n",
       "    overflow: auto;\n",
       "  }\n",
       "  table, th, td {\n",
       "    border: 1px solid black;\n",
       "    border-collapse: collapse;\n",
       "  }\n",
       "  th, td {\n",
       "    padding: 5px;\n",
       "  }\n",
       "  th {\n",
       "    text-align: left;\n",
       "  }\n",
       "</style><div class='table-result-container'><table class='table-result'><thead style='background-color: white'><tr><th>foldCol</th><th>split</th><th>count</th></tr></thead><tbody><tr><td>0</td><td>train</td><td>836453</td></tr><tr><td>0</td><td>val</td><td>205204</td></tr><tr><td>1</td><td>train</td><td>924106</td></tr><tr><td>1</td><td>val</td><td>229004</td></tr><tr><td>2</td><td>train</td><td>884833</td></tr><tr><td>2</td><td>val</td><td>236118</td></tr><tr><td>3</td><td>train</td><td>909500</td></tr><tr><td>3</td><td>val</td><td>226375</td></tr><tr><td>4</td><td>train</td><td>920293</td></tr><tr><td>4</td><td>val</td><td>232081</td></tr><tr><td>5</td><td>train</td><td>914257</td></tr><tr><td>5</td><td>val</td><td>222825</td></tr><tr><td>6</td><td>train</td><td>918567</td></tr><tr><td>6</td><td>val</td><td>234237</td></tr><tr><td>7</td><td>train</td><td>920142</td></tr><tr><td>7</td><td>val</td><td>223534</td></tr></tbody></table></div>"
      ]
     },
     "metadata": {
      "application/vnd.databricks.v1+output": {
       "addedWidgets": {},
       "aggData": [],
       "aggError": "",
       "aggOverflow": false,
       "aggSchema": [],
       "aggSeriesLimitReached": false,
       "aggType": "",
       "arguments": {},
       "columnCustomDisplayInfos": {},
       "data": [
        [
         0,
         "train",
         836453
        ],
        [
         0,
         "val",
         205204
        ],
        [
         1,
         "train",
         924106
        ],
        [
         1,
         "val",
         229004
        ],
        [
         2,
         "train",
         884833
        ],
        [
         2,
         "val",
         236118
        ],
        [
         3,
         "train",
         909500
        ],
        [
         3,
         "val",
         226375
        ],
        [
         4,
         "train",
         920293
        ],
        [
         4,
         "val",
         232081
        ],
        [
         5,
         "train",
         914257
        ],
        [
         5,
         "val",
         222825
        ],
        [
         6,
         "train",
         918567
        ],
        [
         6,
         "val",
         234237
        ],
        [
         7,
         "train",
         920142
        ],
        [
         7,
         "val",
         223534
        ]
       ],
       "datasetInfos": [],
       "dbfsResultPath": null,
       "isJsonSchema": true,
       "metadata": {},
       "overflow": false,
       "plotOptions": {
        "customPlotOptions": {},
        "displayType": "table",
        "pivotAggregation": null,
        "pivotColumns": null,
        "xColumns": null,
        "yColumns": null
       },
       "removedWidgets": [],
       "schema": [
        {
         "metadata": "{}",
         "name": "foldCol",
         "type": "\"integer\""
        },
        {
         "metadata": "{}",
         "name": "split",
         "type": "\"string\""
        },
        {
         "metadata": "{}",
         "name": "count",
         "type": "\"long\""
        }
       ],
       "type": "table"
      }
     },
     "output_type": "display_data"
    }
   ],
   "source": [
    "# groupy by on fold and split\n",
    "display(balanced_df.groupBy(\"foldCol\", \"split\").count().orderBy(\"foldCol\", \"split\"))\n",
    "\n"
   ]
  },
  {
   "cell_type": "markdown",
   "metadata": {
    "application/vnd.databricks.v1+cell": {
     "cellMetadata": {},
     "inputWidgets": {},
     "nuid": "41ce0488-585e-4e7b-bb71-340cb6e7e744",
     "showTitle": false,
     "tableResultSettingsMap": {},
     "title": ""
    }
   },
   "source": [
    "# Additional pre-processing"
   ]
  },
  {
   "cell_type": "markdown",
   "metadata": {
    "application/vnd.databricks.v1+cell": {
     "cellMetadata": {},
     "inputWidgets": {},
     "nuid": "c838a067-f77f-4716-aa91-8b41accb0729",
     "showTitle": false,
     "tableResultSettingsMap": {},
     "title": ""
    }
   },
   "source": [
    "## Change specWeather to categorical (0, 1)"
   ]
  },
  {
   "cell_type": "code",
   "execution_count": 0,
   "metadata": {
    "application/vnd.databricks.v1+cell": {
     "cellMetadata": {
      "byteLimit": 2048000,
      "rowLimit": 10000
     },
     "inputWidgets": {},
     "nuid": "c99ff855-9fee-43e3-af13-7de61d385480",
     "showTitle": false,
     "tableResultSettingsMap": {},
     "title": ""
    }
   },
   "outputs": [],
   "source": [
    "balanced_df = balanced_df.withColumn(\"specWeather\", when(col(\"specWeather\") > 0, 1).otherwise(0))"
   ]
  },
  {
   "cell_type": "code",
   "execution_count": 0,
   "metadata": {
    "application/vnd.databricks.v1+cell": {
     "cellMetadata": {
      "byteLimit": 2048000,
      "rowLimit": 10000
     },
     "inputWidgets": {},
     "nuid": "82599020-bcda-4b95-ac78-789aa289b75a",
     "showTitle": false,
     "tableResultSettingsMap": {},
     "title": ""
    }
   },
   "outputs": [
    {
     "output_type": "display_data",
     "data": {
      "text/html": [
       "<style scoped>\n",
       "  .table-result-container {\n",
       "    max-height: 300px;\n",
       "    overflow: auto;\n",
       "  }\n",
       "  table, th, td {\n",
       "    border: 1px solid black;\n",
       "    border-collapse: collapse;\n",
       "  }\n",
       "  th, td {\n",
       "    padding: 5px;\n",
       "  }\n",
       "  th {\n",
       "    text-align: left;\n",
       "  }\n",
       "</style><div class='table-result-container'><table class='table-result'><thead style='background-color: white'><tr><th>specWeather</th></tr></thead><tbody><tr><td>1</td></tr><tr><td>0</td></tr></tbody></table></div>"
      ]
     },
     "metadata": {
      "application/vnd.databricks.v1+output": {
       "addedWidgets": {},
       "aggData": [],
       "aggError": "",
       "aggOverflow": false,
       "aggSchema": [],
       "aggSeriesLimitReached": false,
       "aggType": "",
       "arguments": {},
       "columnCustomDisplayInfos": {},
       "data": [
        [
         1
        ],
        [
         0
        ]
       ],
       "datasetInfos": [],
       "dbfsResultPath": null,
       "isJsonSchema": true,
       "metadata": {},
       "overflow": false,
       "plotOptions": {
        "customPlotOptions": {},
        "displayType": "table",
        "pivotAggregation": null,
        "pivotColumns": null,
        "xColumns": null,
        "yColumns": null
       },
       "removedWidgets": [],
       "schema": [
        {
         "metadata": "{}",
         "name": "specWeather",
         "type": "\"integer\""
        }
       ],
       "type": "table"
      }
     },
     "output_type": "display_data"
    }
   ],
   "source": [
    "display(balanced_df.select(col(\"specWeather\")).distinct())"
   ]
  },
  {
   "cell_type": "markdown",
   "metadata": {
    "application/vnd.databricks.v1+cell": {
     "cellMetadata": {},
     "inputWidgets": {},
     "nuid": "6490c546-1546-4d64-9c94-27b3126374cf",
     "showTitle": false,
     "tableResultSettingsMap": {},
     "title": ""
    }
   },
   "source": [
    "## Set columns"
   ]
  },
  {
   "cell_type": "code",
   "execution_count": 0,
   "metadata": {
    "application/vnd.databricks.v1+cell": {
     "cellMetadata": {
      "byteLimit": 2048000,
      "rowLimit": 10000
     },
     "inputWidgets": {},
     "nuid": "959ec5ae-7bfa-4588-b4ba-81d60f9b95e7",
     "showTitle": false,
     "tableResultSettingsMap": {},
     "title": ""
    }
   },
   "outputs": [],
   "source": [
    "# Define feature columns\n",
    "ignore_cols = ['ORIGIN', 'DEST','FL_DATE', 'CANCELLED', 'YEAR']\n",
    "\n",
    "# Enumerate columns for ohe (\"categorical\"), already ohe (\"ohe\") and for scaling ()\n",
    "need_ohe_cols = ['QUARTER', 'MONTH', 'DAY_OF_WEEK','OP_UNIQUE_CARRIER', 'DEP_TIME_BLK', 'ARR_TIME_BLK', 'DAY_OF_MONTH', 'HIST_ARR_FLT_NUM', 'HIST_DEP_FLT_NUM']\n",
    "already_ohe_cols = ['ceiling_height_is_below_10000', 'ceiling_height_is_between_10000_20000', 'ceiling_height_is_above_20000', 'isHoliday', 'specWeather']\n",
    "standard_scalar_cols = ['wind_direction', 'temperature', 'sea_level_pressure'] # wind, temp and pressure\n",
    "min_max_cols = ['CRS_ELAPSED_TIME', 'DISTANCE', # Time and distance\n",
    "                'visibility', 'dew_point', 'wind_speed', 'gust_speed',  # vis, dew, weather and wind\n",
    "                'origin_yr_flights', 'dest_yr_flights', # origin/dest\n",
    "                'HIST_ARR_DELAY', 'HIST_DEP_DELAY' # lag columns for previous flights\n",
    "                ]\n",
    "unscaled_cols =['pagerank'] # PageRank (which is null for yr1)\n",
    "\n",
    "# Consolidate\n",
    "categorical_cols = need_ohe_cols + already_ohe_cols\n",
    "numerical_cols = standard_scalar_cols + min_max_cols + unscaled_cols\n",
    "\n",
    "# Removing extra time columns\n",
    "need_ohe_cols = [c for c in need_ohe_cols if c not in ['QUARTER', 'MONTH', 'DAY_OF_WEEK', 'DAY_OF_MONTH']]\n",
    "\n",
    "label_col = 'DEP_DEL15'\n"
   ]
  },
  {
   "cell_type": "markdown",
   "metadata": {
    "application/vnd.databricks.v1+cell": {
     "cellMetadata": {},
     "inputWidgets": {},
     "nuid": "31b7148c-6526-42b6-a624-ec7f7538b78f",
     "showTitle": false,
     "tableResultSettingsMap": {},
     "title": ""
    }
   },
   "source": [
    "## Drop columns, duplicates and checkpoint"
   ]
  },
  {
   "cell_type": "code",
   "execution_count": 0,
   "metadata": {
    "application/vnd.databricks.v1+cell": {
     "cellMetadata": {
      "byteLimit": 2048000,
      "rowLimit": 10000
     },
     "inputWidgets": {},
     "nuid": "7abdfbc8-69e0-46a7-a24a-f06ee2458915",
     "showTitle": false,
     "tableResultSettingsMap": {},
     "title": ""
    }
   },
   "outputs": [],
   "source": [
    "# Clean the data\n",
    "filtered_df = balanced_df.drop(*ignore_cols)\n",
    "filtered_df = filtered_df.dropDuplicates()"
   ]
  },
  {
   "cell_type": "code",
   "execution_count": 0,
   "metadata": {
    "application/vnd.databricks.v1+cell": {
     "cellMetadata": {
      "byteLimit": 2048000,
      "rowLimit": 10000
     },
     "inputWidgets": {},
     "nuid": "6af89d4f-a5ac-44d0-9a63-e80f8b8e4958",
     "showTitle": false,
     "tableResultSettingsMap": {},
     "title": ""
    }
   },
   "outputs": [],
   "source": [
    "filtered_df.write.parquet(f'{team_blob_url}/data/5yr_preprocessed.parquet', mode='overwrite')"
   ]
  },
  {
   "cell_type": "markdown",
   "metadata": {
    "application/vnd.databricks.v1+cell": {
     "cellMetadata": {},
     "inputWidgets": {},
     "nuid": "63cf4ee1-0c1f-4a04-a322-0ba343509b4e",
     "showTitle": false,
     "tableResultSettingsMap": {},
     "title": ""
    }
   },
   "source": [
    "# Remove outliers and checkpoint"
   ]
  },
  {
   "cell_type": "code",
   "execution_count": 0,
   "metadata": {
    "application/vnd.databricks.v1+cell": {
     "cellMetadata": {
      "byteLimit": 2048000,
      "rowLimit": 10000
     },
     "inputWidgets": {},
     "nuid": "2f84edca-f0b6-40e2-a0d2-080933e9103e",
     "showTitle": false,
     "tableResultSettingsMap": {},
     "title": ""
    }
   },
   "outputs": [],
   "source": [
    "# Remove outliers\n",
    "outlier_bounds = {}\n",
    "for col_name in numerical_cols:\n",
    "    # Compute Q1, Q3, and IQR for the column\n",
    "    quantiles = filtered_df.approxQuantile(col_name, [0.25, 0.75], 0.0)  # Approx quantiles: Q1 and Q3\n",
    "\n",
    "    outlier_bounds[col_name] = quantiles\n",
    "\n",
    "    if len(quantiles) == 2:\n",
    "\n",
    "        q1, q3 = quantiles\n",
    "        iqr = q3 - q1\n",
    "        lower_bound = q1 - 1.5 * iqr\n",
    "        upper_bound = q3 + 1.5 * iqr\n",
    "        \n",
    "        # Filter rows within the IQR bounds\n",
    "        filtered_df = filtered_df.filter((col(col_name) >= lower_bound) & (col(col_name) <= upper_bound))"
   ]
  },
  {
   "cell_type": "code",
   "execution_count": 0,
   "metadata": {
    "application/vnd.databricks.v1+cell": {
     "cellMetadata": {
      "byteLimit": 2048000,
      "rowLimit": 10000
     },
     "inputWidgets": {},
     "nuid": "8dc3b5de-6d0e-4e13-94af-b8b2002e693f",
     "showTitle": false,
     "tableResultSettingsMap": {},
     "title": ""
    }
   },
   "outputs": [],
   "source": [
    "# Checkpoint\n",
    "filtered_df.write.parquet(f'{team_blob_url}/data/1yr_preprocessed_no.parquet', mode='overwrite')"
   ]
  },
  {
   "cell_type": "markdown",
   "metadata": {
    "application/vnd.databricks.v1+cell": {
     "cellMetadata": {},
     "inputWidgets": {},
     "nuid": "8b3c7e22-273a-4812-bd6d-f37a5934272f",
     "showTitle": false,
     "tableResultSettingsMap": {},
     "title": ""
    }
   },
   "source": [
    "# Preprocess Test Sets"
   ]
  },
  {
   "cell_type": "code",
   "execution_count": 0,
   "metadata": {
    "application/vnd.databricks.v1+cell": {
     "cellMetadata": {
      "byteLimit": 2048000,
      "rowLimit": 10000
     },
     "inputWidgets": {},
     "nuid": "e1cd83bd-0b88-4ce3-838d-5dec20c0f666",
     "showTitle": false,
     "tableResultSettingsMap": {},
     "title": ""
    }
   },
   "outputs": [],
   "source": [
    "test_5yr = spark.read.parquet(f'{team_blob_url}/data/5yr_test.parquet')"
   ]
  },
  {
   "cell_type": "code",
   "execution_count": 0,
   "metadata": {
    "application/vnd.databricks.v1+cell": {
     "cellMetadata": {
      "byteLimit": 2048000,
      "rowLimit": 10000
     },
     "inputWidgets": {},
     "nuid": "fdbd8497-c65d-4f87-9c18-a010b8c664b9",
     "showTitle": false,
     "tableResultSettingsMap": {},
     "title": ""
    }
   },
   "outputs": [],
   "source": [
    "# Preprocess test set by dropping DEP_DEL15 nulls, reconfiguring specWeather, and dropping unused cols\n",
    "test_5yr = test_5yr.filter(test_5yr.DEP_DEL15.isNotNull())\n",
    "test_5yr = test_5yr.withColumn(\"specWeather\", F.when(col(\"specWeather\") > 0, 1).otherwise(0))\n",
    "test_5yr = test_5yr.drop(*['ORIGIN', 'DEST','FL_DATE', 'CANCELLED', 'YEAR'])"
   ]
  },
  {
   "cell_type": "code",
   "execution_count": 0,
   "metadata": {
    "application/vnd.databricks.v1+cell": {
     "cellMetadata": {
      "byteLimit": 2048000,
      "rowLimit": 10000
     },
     "inputWidgets": {},
     "nuid": "073b51f3-e792-44e8-9fcc-a99ef910e686",
     "showTitle": false,
     "tableResultSettingsMap": {},
     "title": ""
    }
   },
   "outputs": [],
   "source": [
    "test_5yr.write.parquet(f'{team_blob_url}/data/5yr_test_preprocess', mode='overwrite')"
   ]
  }
 ],
 "metadata": {
  "application/vnd.databricks.v1+notebook": {
   "computePreferences": null,
   "dashboards": [],
   "environmentMetadata": {
    "base_environment": "",
    "environment_version": "1"
   },
   "language": "python",
   "notebookMetadata": {
    "pythonIndentUnit": 4
   },
   "notebookName": "preprocess_5yr_pipeline",
   "widgets": {}
  },
  "language_info": {
   "name": "python"
  }
 },
 "nbformat": 4,
 "nbformat_minor": 0
}